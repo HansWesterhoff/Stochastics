{
 "cells": [
  {
   "cell_type": "markdown",
   "metadata": {},
   "source": [
    "# Systems Biology and Medicine Practical (CDAC course Como 2021): Stochastics in Python\n",
    "**Authors**: Thierry D.G.A Mondeel, Stefania Astrologo & Hans V. Westerhoff <br/>\n",
    "Systems Biology Amsterdam and University of Amsterdam <br/>2016-2021\n",
    "\n",
    "## Important notes before we begin\n",
    "\n",
    "- These notebooks will remain online during the course (and after). \n",
    "\n",
    "- <span style=\"color:red\">**Note:** ONCE YOU LOG OUT (or click away the tab in your browser), or if the system crashes, YOUR WORK IS NOT SAVED!</span>\n",
    "\n",
    "### How to save your work\n",
    "Whenever you take a break, stop for the day, or every half hour or so save your notebook to your local computer storage:\n",
    "- \"File -> Download as -> Notebook\". \n",
    "\n",
    "When you open this tutorial again at a later date you can upload your saved notebooks in the \"Tree view\" (where you end up after clicking the Binder image on the initial website). Simply click the \"Upload\" button in the top-right corner in Tree view and upload your saved notebook. \n",
    "\n",
    "### Table of Contents and Assignments\n",
    "At the bottom of this page you will find a the table of contents linking to all the notebooks. **Return here when you finish each one**. \n",
    "\n",
    "Through the various notebooks we have set up some assignments for you to complete. These are highlighted in red, with a time estimate for how long you should roughly spend on this, as follows:\n",
    "\n",
    "<span style=\"color:red\">**Assignment (3 min):**</span> Read the sections below.\n",
    "\n",
    "### Golden rule\n",
    "**<span style=\"color:red\">Golden rule:</span>** Ask one of the teaching assistants if anything is unclear!\n",
    "\n",
    "To perform noise analysis in our tutorial you need to understand at least the basics of the [Python](https://www.python.org/) programming language. \n",
    "\n",
    "As an introduction, the first two tutorials will cover the basics of the Jupyter notebook interface and Python. If you already have experience with Python feel free to skim (not skip) the first part. Even if you already have some experience there may be some tips and tricks in the first part that will come in handy later.\n",
    "\n",
    "\n",
    "Happy learning!\n",
    "\n",
    "\n",
    "## Table of Contents\n",
    "The links below will take you to various parts of this tutorial. \n",
    "\n",
    "- [Getting to know the Jupyter notebook interface](./Stochastics/0_running_code_in_notebook.ipynb) ~ 30 min\n",
    "- [Python essentials](./Stochastics/1_introduction_to_python.ipynb) ~ 45 min\n",
    "\n",
    "\n",
    "\n",
    "\n"
   ]
  },
  {
   "cell_type": "markdown",
   "metadata": {},
   "source": []
  }
 ],
 "metadata": {
  "kernel_info": {
   "name": "python3"
  },
  "kernelspec": {
   "display_name": "Python 3",
   "language": "python",
   "name": "python3"
  },
  "language_info": {
   "codemirror_mode": {
    "name": "ipython",
    "version": 3
   },
   "file_extension": ".py",
   "mimetype": "text/x-python",
   "name": "python",
   "nbconvert_exporter": "python",
   "pygments_lexer": "ipython3",
   "version": "3.7.10"
  },
  "nteract": {
   "version": "0.12.3"
  },
  "toc": {
   "base_numbering": 1,
   "nav_menu": {},
   "number_sections": true,
   "sideBar": true,
   "skip_h1_title": false,
   "title_cell": "Table of Contents",
   "title_sidebar": "Contents",
   "toc_cell": false,
   "toc_position": {},
   "toc_section_display": "block",
   "toc_window_display": false
  }
 },
 "nbformat": 4,
 "nbformat_minor": 2
}
